{
 "cells": [
  {
   "cell_type": "code",
   "execution_count": 11,
   "id": "095ccce0",
   "metadata": {},
   "outputs": [],
   "source": [
    "from nba_api.stats.endpoints import shotchartdetail\n",
    "import json\n",
    "import requests\n",
    "import pandas as pd\n",
    "import matplotlib as mpl\n",
    "import matplotlib.pyplot as plt"
   ]
  },
  {
   "cell_type": "code",
   "execution_count": 12,
   "id": "4e0b9965",
   "metadata": {},
   "outputs": [],
   "source": [
    "players = json.loads(requests.get('https://raw.githubusercontent.com/bttmly/nba/master/data/players.json').text)"
   ]
  },
  {
   "cell_type": "code",
   "execution_count": 13,
   "id": "ed752500",
   "metadata": {},
   "outputs": [],
   "source": [
    "def get_player_id(first, last):\n",
    "    for player in players:\n",
    "        if player['firstName'] == first and player['lastName'] == last:\n",
    "            return player['playerId']\n",
    "    return -1"
   ]
  },
  {
   "cell_type": "code",
   "execution_count": 14,
   "id": "6e609ee4",
   "metadata": {},
   "outputs": [],
   "source": [
    "teams = json.loads(requests.get('https://raw.githubusercontent.com/bttmly/nba/master/data/teams.json').text)"
   ]
  },
  {
   "cell_type": "code",
   "execution_count": 15,
   "id": "07851589",
   "metadata": {},
   "outputs": [],
   "source": [
    "def get_team_id(team_name):\n",
    "    for team in teams:\n",
    "        if team['teamName'] == team_name:\n",
    "            return team['teamId']\n",
    "    return -1"
   ]
  },
  {
   "cell_type": "code",
   "execution_count": 16,
   "id": "2e731b9f",
   "metadata": {},
   "outputs": [
    {
     "data": {
      "text/plain": [
       "1610612752"
      ]
     },
     "execution_count": 16,
     "metadata": {},
     "output_type": "execute_result"
    }
   ],
   "source": [
    "get_team_id('New York Knicks')"
   ]
  },
  {
   "cell_type": "code",
   "execution_count": 17,
   "id": "b015dfc2",
   "metadata": {},
   "outputs": [
    {
     "data": {
      "text/plain": [
       "2544"
      ]
     },
     "execution_count": 17,
     "metadata": {},
     "output_type": "execute_result"
    }
   ],
   "source": [
    "get_player_id('LeBron', 'James')"
   ]
  },
  {
   "cell_type": "code",
   "execution_count": 18,
   "id": "fa1475df",
   "metadata": {},
   "outputs": [
    {
     "data": {
      "text/plain": [
       "-1"
      ]
     },
     "execution_count": 18,
     "metadata": {},
     "output_type": "execute_result"
    }
   ],
   "source": [
    "get_player_id('Michael', 'Jordan')"
   ]
  },
  {
   "cell_type": "markdown",
   "id": "ba42fabc",
   "metadata": {},
   "source": [
    "## Get shot chart data"
   ]
  },
  {
   "cell_type": "code",
   "execution_count": 9,
   "id": "eb392e94",
   "metadata": {},
   "outputs": [],
   "source": [
    "shot_json = shotchartdetail.ShotChartDetail(\n",
    "            team_id = get_team_id('Golden State Warriors'),\n",
    "            player_id = get_player_id('Stephen', 'Curry'),\n",
    "            context_measure_simple = 'PTS',\n",
    "            season_nullable = '2015-16',\n",
    "            season_type_all_star = 'Regular Season')"
   ]
  },
  {
   "cell_type": "code",
   "execution_count": 10,
   "id": "d620b402",
   "metadata": {},
   "outputs": [],
   "source": [
    "shot_data = json.loads(shot_json.get_json())"
   ]
  },
  {
   "cell_type": "markdown",
   "id": "5640c88e",
   "metadata": {},
   "source": [
    "## Transform shot chart data into pandas DataFrame"
   ]
  },
  {
   "cell_type": "code",
   "execution_count": 11,
   "id": "2d957b81",
   "metadata": {},
   "outputs": [],
   "source": [
    "relevant_data = shot_data['resultSets'][0]\n",
    "headers = relevant_data['headers']\n",
    "rows = relevant_data['rowSet']\n",
    "\n",
    "# Create pandas DataFrame\n",
    "curry_data = pd.DataFrame(rows)\n",
    "curry_data.columns = headers"
   ]
  },
  {
   "cell_type": "code",
   "execution_count": 12,
   "id": "7e89fbc6",
   "metadata": {},
   "outputs": [
    {
     "data": {
      "text/plain": [
       "Index(['GRID_TYPE', 'GAME_ID', 'GAME_EVENT_ID', 'PLAYER_ID', 'PLAYER_NAME',\n",
       "       'TEAM_ID', 'TEAM_NAME', 'PERIOD', 'MINUTES_REMAINING',\n",
       "       'SECONDS_REMAINING', 'EVENT_TYPE', 'ACTION_TYPE', 'SHOT_TYPE',\n",
       "       'SHOT_ZONE_BASIC', 'SHOT_ZONE_AREA', 'SHOT_ZONE_RANGE', 'SHOT_DISTANCE',\n",
       "       'LOC_X', 'LOC_Y', 'SHOT_ATTEMPTED_FLAG', 'SHOT_MADE_FLAG', 'GAME_DATE',\n",
       "       'HTM', 'VTM'],\n",
       "      dtype='object')"
      ]
     },
     "execution_count": 12,
     "metadata": {},
     "output_type": "execute_result"
    }
   ],
   "source": [
    "curry_data.columns"
   ]
  },
  {
   "cell_type": "markdown",
   "id": "e419ad46",
   "metadata": {},
   "source": [
    "## Draw court using lines and simple shapes"
   ]
  },
  {
   "cell_type": "code",
   "execution_count": 13,
   "id": "eba05d10",
   "metadata": {},
   "outputs": [],
   "source": [
    "def create_court(ax, color):\n",
    "    \n",
    "    # Short corner 3PT lines\n",
    "    ax.plot([-220, -220], [0, 140], linewidth=2, color=color)\n",
    "    ax.plot([220, 220], [0, 140], linewidth=2, color=color)\n",
    "    \n",
    "    # 3PT Arc\n",
    "    ax.add_artist(mpl.patches.Arc((0, 140), 440, 315, theta1=0, theta2=180, facecolor='none', edgecolor=color, lw=2))\n",
    "    \n",
    "    # Lane and Key\n",
    "    ax.plot([-80, -80], [0, 190], linewidth=2, color=color)\n",
    "    ax.plot([80, 80], [0, 190], linewidth=2, color=color)\n",
    "    ax.plot([-60, -60], [0, 190], linewidth=2, color=color)\n",
    "    ax.plot([60, 60], [0, 190], linewidth=2, color=color)\n",
    "    ax.plot([-80, 80], [190, 190], linewidth=2, color=color)\n",
    "    ax.add_artist(mpl.patches.Circle((0, 190), 60, facecolor='none', edgecolor=color, lw=2))\n",
    "    \n",
    "    # Rim\n",
    "    ax.add_artist(mpl.patches.Circle((0, 60), 15, facecolor='none', edgecolor=color, lw=2))\n",
    "    \n",
    "    # Backboard\n",
    "    ax.plot([-30, 30], [40, 40], linewidth=2, color=color)\n",
    "    \n",
    "    # Remove ticks\n",
    "    ax.set_xticks([])\n",
    "    ax.set_yticks([])\n",
    "    \n",
    "    # Set axis limits\n",
    "    ax.set_xlim(-250, 250)\n",
    "    ax.set_ylim(0, 470)\n",
    "    \n",
    "    return ax"
   ]
  },
  {
   "cell_type": "markdown",
   "id": "208e8817",
   "metadata": {},
   "source": [
    "## General plot parameters"
   ]
  },
  {
   "cell_type": "code",
   "execution_count": 14,
   "id": "a2a0483b",
   "metadata": {},
   "outputs": [],
   "source": [
    "mpl.rcParams['font.family'] = 'Avenir'\n",
    "mpl.rcParams['font.size'] = 18\n",
    "mpl.rcParams['axes.linewidth'] = 2"
   ]
  },
  {
   "cell_type": "markdown",
   "id": "b5081add",
   "metadata": {},
   "source": [
    "## Plot shot chart"
   ]
  },
  {
   "cell_type": "code",
   "execution_count": 15,
   "id": "d24b0523",
   "metadata": {},
   "outputs": [
    {
     "name": "stderr",
     "output_type": "stream",
     "text": [
      "findfont: Font family ['Avenir'] not found. Falling back to DejaVu Sans.\n"
     ]
    },
    {
     "data": {
      "image/png": "[encoded data removed]",
      "text/plain": [
       "<Figure size 288x270.72 with 1 Axes>"
      ]
     },
     "metadata": {},
     "output_type": "display_data"
    }
   ],
   "source": [
    "# Create figure and axes\n",
    "fig = plt.figure(figsize=(4, 3.76))\n",
    "ax = fig.add_axes([0, 0, 1, 1])\n",
    "\n",
    "# Draw court\n",
    "ax = create_court(ax, 'black')\n",
    "\n",
    "# Plot hexbin of shots\n",
    "ax.hexbin(curry_data['LOC_X'], curry_data['LOC_Y'] + 60, gridsize=(30, 30), extent=(-300, 300, 0, 940), bins='log', cmap='Blues')\n",
    "\n",
    "# Annotate player name and season\n",
    "ax.text(0, 1.05, 'Stephen Curry\\n2015-16 Regular Season', transform=ax.transAxes, ha='left', va='baseline')\n",
    "\n",
    "# Save and show figure\n",
    "plt.savefig('ShotChart.png', dpi=300, bbox_inches='tight')\n",
    "plt.show()"
   ]
  },
  {
   "cell_type": "code",
   "execution_count": null,
   "id": "7a3b0aab",
   "metadata": {},
   "outputs": [],
   "source": []
  }
 ],
 "metadata": {
  "kernelspec": {
   "display_name": "Python 3",
   "language": "python",
   "name": "python3"
  },
  "language_info": {
   "codemirror_mode": {
    "name": "ipython",
    "version": 3
   },
   "file_extension": ".py",
   "mimetype": "text/x-python",
   "name": "python",
   "nbconvert_exporter": "python",
   "pygments_lexer": "ipython3",
   "version": "3.8.8"
  }
 },
 "nbformat": 4,
 "nbformat_minor": 5
}
